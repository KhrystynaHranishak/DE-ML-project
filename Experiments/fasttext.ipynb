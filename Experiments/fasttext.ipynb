{
 "metadata": {
  "language_info": {
   "codemirror_mode": {
    "name": "ipython",
    "version": 3
   },
   "file_extension": ".py",
   "mimetype": "text/x-python",
   "name": "python",
   "nbconvert_exporter": "python",
   "pygments_lexer": "ipython3",
   "version": "3.7.9-final"
  },
  "orig_nbformat": 2,
  "kernelspec": {
   "name": "python3",
   "display_name": "Python 3.7.9 64-bit ('env')",
   "metadata": {
    "interpreter": {
     "hash": "5df8fb88a307b044795d21ece67efceaa9e587eaf5874d42c7d0c81f3ec59382"
    }
   }
  }
 },
 "nbformat": 4,
 "nbformat_minor": 2,
 "cells": [
  {
   "cell_type": "code",
   "execution_count": 2,
   "metadata": {},
   "outputs": [],
   "source": [
    "import pandas as pd\n",
    "import numpy as np\n",
    "import string"
   ]
  },
  {
   "cell_type": "code",
   "execution_count": 3,
   "metadata": {},
   "outputs": [],
   "source": [
    "data_train = pd.read_pickle(\"Data/train_data.pkl\")"
   ]
  },
  {
   "cell_type": "code",
   "execution_count": 4,
   "metadata": {},
   "outputs": [
    {
     "output_type": "execute_result",
     "data": {
      "text/plain": [
       "                                             comment_text  toxic  \\\n",
       "22689   \"::No.  The reason some excellent editors leav...      0   \n",
       "154371  Comment Will it merge back into Historicity of...      0   \n",
       "93418   Well then I might do that if I don't get the l...      0   \n",
       "31049   Several years later, I finally add something t...      0   \n",
       "47906   Could you please specify the licence of the ph...      0   \n",
       "\n",
       "                                               text_clean  \n",
       "22689   reason excellent editor leave reasoned fully e...  \n",
       "154371  comment merge back historicity jesus tiny part...  \n",
       "93418   well might dont get list done time although st...  \n",
       "31049   several year later finally add something talk ...  \n",
       "47906   could please specify licence photo download se...  "
      ],
      "text/html": "<div>\n<style scoped>\n    .dataframe tbody tr th:only-of-type {\n        vertical-align: middle;\n    }\n\n    .dataframe tbody tr th {\n        vertical-align: top;\n    }\n\n    .dataframe thead th {\n        text-align: right;\n    }\n</style>\n<table border=\"1\" class=\"dataframe\">\n  <thead>\n    <tr style=\"text-align: right;\">\n      <th></th>\n      <th>comment_text</th>\n      <th>toxic</th>\n      <th>text_clean</th>\n    </tr>\n  </thead>\n  <tbody>\n    <tr>\n      <th>22689</th>\n      <td>\"::No.  The reason some excellent editors leav...</td>\n      <td>0</td>\n      <td>reason excellent editor leave reasoned fully e...</td>\n    </tr>\n    <tr>\n      <th>154371</th>\n      <td>Comment Will it merge back into Historicity of...</td>\n      <td>0</td>\n      <td>comment merge back historicity jesus tiny part...</td>\n    </tr>\n    <tr>\n      <th>93418</th>\n      <td>Well then I might do that if I don't get the l...</td>\n      <td>0</td>\n      <td>well might dont get list done time although st...</td>\n    </tr>\n    <tr>\n      <th>31049</th>\n      <td>Several years later, I finally add something t...</td>\n      <td>0</td>\n      <td>several year later finally add something talk ...</td>\n    </tr>\n    <tr>\n      <th>47906</th>\n      <td>Could you please specify the licence of the ph...</td>\n      <td>0</td>\n      <td>could please specify licence photo download se...</td>\n    </tr>\n  </tbody>\n</table>\n</div>"
     },
     "metadata": {},
     "execution_count": 4
    }
   ],
   "source": [
    "data_train.head()"
   ]
  },
  {
   "cell_type": "code",
   "execution_count": 5,
   "metadata": {},
   "outputs": [],
   "source": [
    "def preprocess_text(text, remove_stop = True, stem_words = False, remove_mentions_hashtags = True):\n",
    "    text = text.lower()\n",
    "    text = text.replace(\"what's\", \"what is\")\n",
    "    text = text.replace(\"\\'ve\", \" have\")\n",
    "    text = text.replace(\"can't\", \"can not\")\n",
    "    text = text.replace(\"n't\", \" not\")\n",
    "    text = text.replace(\"i'm\", \"i am\")\n",
    "    text = text.replace(\"'re\", \" are\")\n",
    "    text = text.replace(\"\\'d\", \" would\")\n",
    "    text = text.replace(\"\\'ll\", \" will\")\n",
    "    text = text.replace(\"\\n\", \" \")\n",
    "    for c in string.punctuation:\n",
    "        text = text.replace(c, \"\")\n",
    "\n",
    "    return text"
   ]
  },
  {
   "cell_type": "code",
   "execution_count": 6,
   "metadata": {},
   "outputs": [],
   "source": [
    "data_train['comments_cleaned'] = data_train[\"comment_text\"].apply(preprocess_text)"
   ]
  },
  {
   "cell_type": "code",
   "execution_count": 7,
   "metadata": {},
   "outputs": [
    {
     "output_type": "execute_result",
     "data": {
      "text/plain": [
       "                                             comment_text  toxic  \\\n",
       "22689   \"::No.  The reason some excellent editors leav...      0   \n",
       "154371  Comment Will it merge back into Historicity of...      0   \n",
       "93418   Well then I might do that if I don't get the l...      0   \n",
       "31049   Several years later, I finally add something t...      0   \n",
       "47906   Could you please specify the licence of the ph...      0   \n",
       "...                                                   ...    ...   \n",
       "153719  In the meantime I can't even edit User talk:Ro...      0   \n",
       "148645  \" April 2011 (UTC)\\nI don't dispute that the i...      0   \n",
       "113159  I agree that this article is a WP:NEOLOGISM vi...      0   \n",
       "104771  \" These comments alone constitute evidence tha...      0   \n",
       "14596   None English Title on English Wikipedia \\n\\nCu...      0   \n",
       "\n",
       "                                               text_clean  \\\n",
       "22689   reason excellent editor leave reasoned fully e...   \n",
       "154371  comment merge back historicity jesus tiny part...   \n",
       "93418   well might dont get list done time although st...   \n",
       "31049   several year later finally add something talk ...   \n",
       "47906   could please specify licence photo download se...   \n",
       "...                                                   ...   \n",
       "153719  meantime cant even edit user talkrompecorporat...   \n",
       "148645  april 2011 utc dont dispute image add article ...   \n",
       "113159  agree article wpneologism violation two source...   \n",
       "104771  comment alone constitute evidence mediation ka...   \n",
       "14596   none english title english wikipedia curious l...   \n",
       "\n",
       "                                         comments_cleaned  \n",
       "22689   no  the reason some excellent editors leave is...  \n",
       "154371  comment will it merge back into historicity of...  \n",
       "93418   well then i might do that if i do not get the ...  \n",
       "31049   several years later i finally add something to...  \n",
       "47906   could you please specify the licence of the ph...  \n",
       "...                                                   ...  \n",
       "153719  in the meantime i can not even edit user talkr...  \n",
       "148645   april 2011 utc i do not dispute that the imag...  \n",
       "113159  i agree that this article is a wpneologism vio...  \n",
       "104771   these comments alone constitute evidence that...  \n",
       "14596   none english title on english wikipedia   curi...  \n",
       "\n",
       "[111699 rows x 4 columns]"
      ],
      "text/html": "<div>\n<style scoped>\n    .dataframe tbody tr th:only-of-type {\n        vertical-align: middle;\n    }\n\n    .dataframe tbody tr th {\n        vertical-align: top;\n    }\n\n    .dataframe thead th {\n        text-align: right;\n    }\n</style>\n<table border=\"1\" class=\"dataframe\">\n  <thead>\n    <tr style=\"text-align: right;\">\n      <th></th>\n      <th>comment_text</th>\n      <th>toxic</th>\n      <th>text_clean</th>\n      <th>comments_cleaned</th>\n    </tr>\n  </thead>\n  <tbody>\n    <tr>\n      <th>22689</th>\n      <td>\"::No.  The reason some excellent editors leav...</td>\n      <td>0</td>\n      <td>reason excellent editor leave reasoned fully e...</td>\n      <td>no  the reason some excellent editors leave is...</td>\n    </tr>\n    <tr>\n      <th>154371</th>\n      <td>Comment Will it merge back into Historicity of...</td>\n      <td>0</td>\n      <td>comment merge back historicity jesus tiny part...</td>\n      <td>comment will it merge back into historicity of...</td>\n    </tr>\n    <tr>\n      <th>93418</th>\n      <td>Well then I might do that if I don't get the l...</td>\n      <td>0</td>\n      <td>well might dont get list done time although st...</td>\n      <td>well then i might do that if i do not get the ...</td>\n    </tr>\n    <tr>\n      <th>31049</th>\n      <td>Several years later, I finally add something t...</td>\n      <td>0</td>\n      <td>several year later finally add something talk ...</td>\n      <td>several years later i finally add something to...</td>\n    </tr>\n    <tr>\n      <th>47906</th>\n      <td>Could you please specify the licence of the ph...</td>\n      <td>0</td>\n      <td>could please specify licence photo download se...</td>\n      <td>could you please specify the licence of the ph...</td>\n    </tr>\n    <tr>\n      <th>...</th>\n      <td>...</td>\n      <td>...</td>\n      <td>...</td>\n      <td>...</td>\n    </tr>\n    <tr>\n      <th>153719</th>\n      <td>In the meantime I can't even edit User talk:Ro...</td>\n      <td>0</td>\n      <td>meantime cant even edit user talkrompecorporat...</td>\n      <td>in the meantime i can not even edit user talkr...</td>\n    </tr>\n    <tr>\n      <th>148645</th>\n      <td>\" April 2011 (UTC)\\nI don't dispute that the i...</td>\n      <td>0</td>\n      <td>april 2011 utc dont dispute image add article ...</td>\n      <td>april 2011 utc i do not dispute that the imag...</td>\n    </tr>\n    <tr>\n      <th>113159</th>\n      <td>I agree that this article is a WP:NEOLOGISM vi...</td>\n      <td>0</td>\n      <td>agree article wpneologism violation two source...</td>\n      <td>i agree that this article is a wpneologism vio...</td>\n    </tr>\n    <tr>\n      <th>104771</th>\n      <td>\" These comments alone constitute evidence tha...</td>\n      <td>0</td>\n      <td>comment alone constitute evidence mediation ka...</td>\n      <td>these comments alone constitute evidence that...</td>\n    </tr>\n    <tr>\n      <th>14596</th>\n      <td>None English Title on English Wikipedia \\n\\nCu...</td>\n      <td>0</td>\n      <td>none english title english wikipedia curious l...</td>\n      <td>none english title on english wikipedia   curi...</td>\n    </tr>\n  </tbody>\n</table>\n<p>111699 rows × 4 columns</p>\n</div>"
     },
     "metadata": {},
     "execution_count": 7
    }
   ],
   "source": [
    "data_train"
   ]
  },
  {
   "cell_type": "code",
   "execution_count": 8,
   "metadata": {},
   "outputs": [
    {
     "output_type": "execute_result",
     "data": {
      "text/plain": [
       "Empty DataFrame\n",
       "Columns: [comment_text, toxic, text_clean, comments_cleaned]\n",
       "Index: []"
      ],
      "text/html": "<div>\n<style scoped>\n    .dataframe tbody tr th:only-of-type {\n        vertical-align: middle;\n    }\n\n    .dataframe tbody tr th {\n        vertical-align: top;\n    }\n\n    .dataframe thead th {\n        text-align: right;\n    }\n</style>\n<table border=\"1\" class=\"dataframe\">\n  <thead>\n    <tr style=\"text-align: right;\">\n      <th></th>\n      <th>comment_text</th>\n      <th>toxic</th>\n      <th>text_clean</th>\n      <th>comments_cleaned</th>\n    </tr>\n  </thead>\n  <tbody>\n  </tbody>\n</table>\n</div>"
     },
     "metadata": {},
     "execution_count": 8
    }
   ],
   "source": [
    "data_train[data_train.comments_cleaned == 'some jerkoff blocked me']"
   ]
  },
  {
   "cell_type": "code",
   "execution_count": 10,
   "metadata": {},
   "outputs": [
    {
     "output_type": "stream",
     "name": "stdout",
     "text": [
      "\n"
     ]
    }
   ],
   "source": [
    "print()"
   ]
  },
  {
   "cell_type": "code",
   "execution_count": 11,
   "metadata": {},
   "outputs": [
    {
     "output_type": "execute_result",
     "data": {
      "text/plain": [
       "                                             comment_text  toxic  \\\n",
       "125996                          FUCK U ALL \\n\\nFUCK U ALL      1   \n",
       "111470  Mud \\n\\nWhat the fuck are you doing?  I added ...      1   \n",
       "16367   \"\\n\"\"Vandalism\"\"? Sorry, mister, but I haven't...      1   \n",
       "92963   I am coming to get you \\n\\ni know where you li...      1   \n",
       "45928   If that is vandalism then any accusation of be...      1   \n",
       "...                                                   ...    ...   \n",
       "59646   If you have no interest in the whole story the...      1   \n",
       "59711   \"\\n\\n Fuck you \\n\\nRe: \"\"mark williams radio h...      1   \n",
       "17384   ARE IGNORANT PENDEJO IS 185 IS NAME IS CONFIRM...      1   \n",
       "121173  You idiots always demand I explain myself on t...      1   \n",
       "33866   \"\\n\\nWhy the hell are you deleting the informa...      1   \n",
       "\n",
       "                                               text_clean  \\\n",
       "125996                                      fuck u fuck u   \n",
       "111470  mud fuck added adjusted score mud dont undo ch...   \n",
       "16367   vandalism sorry mister havent conducted vandal...   \n",
       "92963             coming get know live im going come rape   \n",
       "45928   vandalism accusation sockpuppet vandalism sock...   \n",
       "...                                                   ...   \n",
       "59646                          interest whole story get f   \n",
       "59711   fuck mark williams radio host ground zero mosq...   \n",
       "17384              ignorant pendejo 185 name confirmed ok   \n",
       "121173  idiot always demand explain talk page always d...   \n",
       "33866   hell deleting information lil wayne page ok sa...   \n",
       "\n",
       "                                         comments_cleaned  \n",
       "125996                            fuck u all   fuck u all  \n",
       "111470  mud   what the fuck are you doing  i added the...  \n",
       "16367    vandalism sorry mister but i have not conduct...  \n",
       "92963   i am coming to get you   i know where you live...  \n",
       "45928   if that is vandalism then any accusation of be...  \n",
       "...                                                   ...  \n",
       "59646   if you have no interest in the whole story the...  \n",
       "59711      fuck you   re mark williams radio host and ...  \n",
       "17384   are ignorant pendejo is 185 is name is confirm...  \n",
       "121173  you idiots always demand i explain myself on t...  \n",
       "33866     why the hell are you deleting the informatio...  \n",
       "\n",
       "[10706 rows x 4 columns]"
      ],
      "text/html": "<div>\n<style scoped>\n    .dataframe tbody tr th:only-of-type {\n        vertical-align: middle;\n    }\n\n    .dataframe tbody tr th {\n        vertical-align: top;\n    }\n\n    .dataframe thead th {\n        text-align: right;\n    }\n</style>\n<table border=\"1\" class=\"dataframe\">\n  <thead>\n    <tr style=\"text-align: right;\">\n      <th></th>\n      <th>comment_text</th>\n      <th>toxic</th>\n      <th>text_clean</th>\n      <th>comments_cleaned</th>\n    </tr>\n  </thead>\n  <tbody>\n    <tr>\n      <th>125996</th>\n      <td>FUCK U ALL \\n\\nFUCK U ALL</td>\n      <td>1</td>\n      <td>fuck u fuck u</td>\n      <td>fuck u all   fuck u all</td>\n    </tr>\n    <tr>\n      <th>111470</th>\n      <td>Mud \\n\\nWhat the fuck are you doing?  I added ...</td>\n      <td>1</td>\n      <td>mud fuck added adjusted score mud dont undo ch...</td>\n      <td>mud   what the fuck are you doing  i added the...</td>\n    </tr>\n    <tr>\n      <th>16367</th>\n      <td>\"\\n\"\"Vandalism\"\"? Sorry, mister, but I haven't...</td>\n      <td>1</td>\n      <td>vandalism sorry mister havent conducted vandal...</td>\n      <td>vandalism sorry mister but i have not conduct...</td>\n    </tr>\n    <tr>\n      <th>92963</th>\n      <td>I am coming to get you \\n\\ni know where you li...</td>\n      <td>1</td>\n      <td>coming get know live im going come rape</td>\n      <td>i am coming to get you   i know where you live...</td>\n    </tr>\n    <tr>\n      <th>45928</th>\n      <td>If that is vandalism then any accusation of be...</td>\n      <td>1</td>\n      <td>vandalism accusation sockpuppet vandalism sock...</td>\n      <td>if that is vandalism then any accusation of be...</td>\n    </tr>\n    <tr>\n      <th>...</th>\n      <td>...</td>\n      <td>...</td>\n      <td>...</td>\n      <td>...</td>\n    </tr>\n    <tr>\n      <th>59646</th>\n      <td>If you have no interest in the whole story the...</td>\n      <td>1</td>\n      <td>interest whole story get f</td>\n      <td>if you have no interest in the whole story the...</td>\n    </tr>\n    <tr>\n      <th>59711</th>\n      <td>\"\\n\\n Fuck you \\n\\nRe: \"\"mark williams radio h...</td>\n      <td>1</td>\n      <td>fuck mark williams radio host ground zero mosq...</td>\n      <td>fuck you   re mark williams radio host and ...</td>\n    </tr>\n    <tr>\n      <th>17384</th>\n      <td>ARE IGNORANT PENDEJO IS 185 IS NAME IS CONFIRM...</td>\n      <td>1</td>\n      <td>ignorant pendejo 185 name confirmed ok</td>\n      <td>are ignorant pendejo is 185 is name is confirm...</td>\n    </tr>\n    <tr>\n      <th>121173</th>\n      <td>You idiots always demand I explain myself on t...</td>\n      <td>1</td>\n      <td>idiot always demand explain talk page always d...</td>\n      <td>you idiots always demand i explain myself on t...</td>\n    </tr>\n    <tr>\n      <th>33866</th>\n      <td>\"\\n\\nWhy the hell are you deleting the informa...</td>\n      <td>1</td>\n      <td>hell deleting information lil wayne page ok sa...</td>\n      <td>why the hell are you deleting the informatio...</td>\n    </tr>\n  </tbody>\n</table>\n<p>10706 rows × 4 columns</p>\n</div>"
     },
     "metadata": {},
     "execution_count": 11
    }
   ],
   "source": [
    "data_train[data_train.toxic == 1]"
   ]
  },
  {
   "cell_type": "code",
   "execution_count": 12,
   "metadata": {},
   "outputs": [],
   "source": [
    "import csv\n",
    "data_train['label'] = ['__label__'+str(s) for s in data_train['toxic']]\n",
    "data = data_train[['comments_cleaned', 'label']]\n",
    "data.to_csv('comments.txt', index=False, sep=' ', header=False,quoting=csv.QUOTE_NONE, quotechar=\"\", escapechar=\" \")"
   ]
  },
  {
   "cell_type": "code",
   "execution_count": 13,
   "metadata": {},
   "outputs": [],
   "source": [
    "data_train[['comments_cleaned', 'label']]\n",
    "data_train = data_train.fillna('')"
   ]
  },
  {
   "cell_type": "code",
   "execution_count": 14,
   "metadata": {},
   "outputs": [],
   "source": [
    "import fasttext\n",
    "\n",
    "model = fasttext.train_supervised(input=\"comments2.txt\")"
   ]
  },
  {
   "cell_type": "code",
   "execution_count": 15,
   "metadata": {},
   "outputs": [],
   "source": [
    "def get_prediction(fast_out):\n",
    "    return int(fast_out[0][0].split('__label__')[1])"
   ]
  },
  {
   "cell_type": "code",
   "execution_count": 16,
   "metadata": {},
   "outputs": [
    {
     "output_type": "stream",
     "name": "stdout",
     "text": [
      "accuracy: 0.933347657543935 \n\nF1-score: 0.4970614064716612 \n\n"
     ]
    }
   ],
   "source": [
    "from sklearn.metrics import accuracy_score\n",
    "from sklearn.metrics import f1_score\n",
    "\n",
    "##Training accuracy\n",
    "preds = [get_prediction(model.predict(x)) for x in data_train['comments_cleaned']]\n",
    "print('accuracy:', accuracy_score(data_train['toxic'], preds),'\\n')\n",
    "\n",
    "##Training F1-score\n",
    "print('F1-score:', f1_score(data_train['toxic'], preds),'\\n')"
   ]
  },
  {
   "cell_type": "code",
   "execution_count": 17,
   "metadata": {},
   "outputs": [
    {
     "output_type": "stream",
     "name": "stdout",
     "text": [
      "              precision    recall  f1-score   support\n\n           0       0.93      1.00      0.96    100993\n           1       0.90      0.34      0.50     10706\n\n    accuracy                           0.93    111699\n   macro avg       0.92      0.67      0.73    111699\nweighted avg       0.93      0.93      0.92    111699\n\n"
     ]
    }
   ],
   "source": [
    "from sklearn.metrics import classification_report\n",
    "\n",
    "print(classification_report(data_train['toxic'], preds))"
   ]
  },
  {
   "cell_type": "code",
   "execution_count": 19,
   "metadata": {},
   "outputs": [],
   "source": [
    "data_test = pd.read_pickle(\"Data/test_data.pkl\")"
   ]
  },
  {
   "cell_type": "code",
   "execution_count": 20,
   "metadata": {},
   "outputs": [],
   "source": [
    "data_test['comments_cleaned'] = data_test[\"comment_text\"].apply(preprocess_text)"
   ]
  },
  {
   "cell_type": "code",
   "execution_count": null,
   "metadata": {},
   "outputs": [],
   "source": [
    "data_test = data_test.fillna('')"
   ]
  },
  {
   "cell_type": "code",
   "execution_count": 21,
   "metadata": {},
   "outputs": [
    {
     "output_type": "stream",
     "name": "stdout",
     "text": [
      "accuracy: 0.9319017379679144 \n\nF1-score: 0.4864524259609326 \n\n"
     ]
    }
   ],
   "source": [
    "from sklearn.metrics import accuracy_score\n",
    "from sklearn.metrics import f1_score\n",
    "\n",
    "##test accuracy\n",
    "preds = [get_prediction(model.predict(x)) for x in data_test['comments_cleaned']]\n",
    "print('accuracy:', accuracy_score(data_test['toxic'], preds),'\\n')\n",
    "\n",
    "##test F1-score\n",
    "print('F1-score:', f1_score(data_test['toxic'], preds),'\\n')"
   ]
  },
  {
   "cell_type": "code",
   "execution_count": 22,
   "metadata": {},
   "outputs": [
    {
     "output_type": "stream",
     "name": "stdout",
     "text": [
      "              precision    recall  f1-score   support\n\n           0       0.93      1.00      0.96     43284\n           1       0.88      0.34      0.49      4588\n\n    accuracy                           0.93     47872\n   macro avg       0.91      0.67      0.72     47872\nweighted avg       0.93      0.93      0.92     47872\n\n"
     ]
    }
   ],
   "source": [
    "from sklearn.metrics import classification_report\n",
    "\n",
    "print(classification_report(data_test['toxic'], preds))"
   ]
  },
  {
   "cell_type": "code",
   "execution_count": 23,
   "metadata": {},
   "outputs": [],
   "source": [
    "data_valid = pd.read_pickle(\"Data/validation_data.pkl\")"
   ]
  },
  {
   "cell_type": "code",
   "execution_count": 24,
   "metadata": {},
   "outputs": [],
   "source": [
    "data_valid['comments_cleaned'] = data_valid[\"comment_text\"].apply(preprocess_text)"
   ]
  },
  {
   "cell_type": "code",
   "execution_count": 25,
   "metadata": {},
   "outputs": [],
   "source": [
    "data_valid = data_valid.fillna('')"
   ]
  },
  {
   "cell_type": "code",
   "execution_count": 27,
   "metadata": {},
   "outputs": [
    {
     "output_type": "stream",
     "name": "stdout",
     "text": [
      "accuracy: 0.9217856138047453 \n\nF1-score: 0.4776617954070982 \n\n"
     ]
    }
   ],
   "source": [
    "##valid accuracy\n",
    "preds = [get_prediction(model.predict(x)) for x in data_valid['comments_cleaned']]\n",
    "print('accuracy:', accuracy_score(data_valid['toxic'], preds),'\\n')\n",
    "\n",
    "##valid F1-score\n",
    "print('F1-score:', f1_score(data_valid['toxic'], preds),'\\n')"
   ]
  },
  {
   "cell_type": "code",
   "execution_count": 28,
   "metadata": {},
   "outputs": [
    {
     "output_type": "stream",
     "name": "stdout",
     "text": [
      "              precision    recall  f1-score   support\n\n           0       0.94      0.98      0.96     57888\n           1       0.66      0.38      0.48      6090\n\n    accuracy                           0.92     63978\n   macro avg       0.80      0.68      0.72     63978\nweighted avg       0.91      0.92      0.91     63978\n\n"
     ]
    }
   ],
   "source": [
    "from sklearn.metrics import classification_report\n",
    "\n",
    "print(classification_report(data_valid['toxic'], preds))"
   ]
  },
  {
   "cell_type": "code",
   "execution_count": null,
   "metadata": {},
   "outputs": [],
   "source": []
  },
  {
   "cell_type": "code",
   "execution_count": 29,
   "metadata": {},
   "outputs": [],
   "source": [
    "model.save_model(\"model.bin\")"
   ]
  },
  {
   "cell_type": "code",
   "execution_count": 30,
   "metadata": {},
   "outputs": [
    {
     "output_type": "execute_result",
     "data": {
      "text/plain": [
       "(('__label__0',), array([0.57954049]))"
      ]
     },
     "metadata": {},
     "execution_count": 30
    }
   ],
   "source": [
    "model.predict(\"someone blocked me\")"
   ]
  },
  {
   "cell_type": "code",
   "execution_count": null,
   "metadata": {},
   "outputs": [],
   "source": []
  }
 ]
}