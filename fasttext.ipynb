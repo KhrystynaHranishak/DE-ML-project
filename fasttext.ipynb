{
 "metadata": {
  "language_info": {
   "codemirror_mode": {
    "name": "ipython",
    "version": 3
   },
   "file_extension": ".py",
   "mimetype": "text/x-python",
   "name": "python",
   "nbconvert_exporter": "python",
   "pygments_lexer": "ipython3",
   "version": "3.7.9-final"
  },
  "orig_nbformat": 2,
  "kernelspec": {
   "name": "python3",
   "display_name": "Python 3.7.9 64-bit ('env')",
   "metadata": {
    "interpreter": {
     "hash": "5df8fb88a307b044795d21ece67efceaa9e587eaf5874d42c7d0c81f3ec59382"
    }
   }
  }
 },
 "nbformat": 4,
 "nbformat_minor": 2,
 "cells": [
  {
   "cell_type": "code",
   "execution_count": 83,
   "metadata": {},
   "outputs": [],
   "source": [
    "import pandas as pd\n",
    "import numpy as np\n",
    "import string"
   ]
  },
  {
   "cell_type": "code",
   "execution_count": 84,
   "metadata": {},
   "outputs": [],
   "source": [
    "data_train = pd.read_pickle(\"Data/train_data.pkl\")"
   ]
  },
  {
   "cell_type": "code",
   "execution_count": 85,
   "metadata": {},
   "outputs": [
    {
     "output_type": "execute_result",
     "data": {
      "text/plain": [
       "                                             comment_text  toxic  \\\n",
       "22689   \"::No.  The reason some excellent editors leav...      0   \n",
       "154371  Comment Will it merge back into Historicity of...      0   \n",
       "93418   Well then I might do that if I don't get the l...      0   \n",
       "31049   Several years later, I finally add something t...      0   \n",
       "47906   Could you please specify the licence of the ph...      0   \n",
       "\n",
       "                                               text_clean  \n",
       "22689   reason excellent editor leave reasoned fully e...  \n",
       "154371  comment merge back historicity jesus tiny part...  \n",
       "93418   well might dont get list done time although st...  \n",
       "31049   several year later finally add something talk ...  \n",
       "47906   could please specify licence photo download se...  "
      ],
      "text/html": "<div>\n<style scoped>\n    .dataframe tbody tr th:only-of-type {\n        vertical-align: middle;\n    }\n\n    .dataframe tbody tr th {\n        vertical-align: top;\n    }\n\n    .dataframe thead th {\n        text-align: right;\n    }\n</style>\n<table border=\"1\" class=\"dataframe\">\n  <thead>\n    <tr style=\"text-align: right;\">\n      <th></th>\n      <th>comment_text</th>\n      <th>toxic</th>\n      <th>text_clean</th>\n    </tr>\n  </thead>\n  <tbody>\n    <tr>\n      <th>22689</th>\n      <td>\"::No.  The reason some excellent editors leav...</td>\n      <td>0</td>\n      <td>reason excellent editor leave reasoned fully e...</td>\n    </tr>\n    <tr>\n      <th>154371</th>\n      <td>Comment Will it merge back into Historicity of...</td>\n      <td>0</td>\n      <td>comment merge back historicity jesus tiny part...</td>\n    </tr>\n    <tr>\n      <th>93418</th>\n      <td>Well then I might do that if I don't get the l...</td>\n      <td>0</td>\n      <td>well might dont get list done time although st...</td>\n    </tr>\n    <tr>\n      <th>31049</th>\n      <td>Several years later, I finally add something t...</td>\n      <td>0</td>\n      <td>several year later finally add something talk ...</td>\n    </tr>\n    <tr>\n      <th>47906</th>\n      <td>Could you please specify the licence of the ph...</td>\n      <td>0</td>\n      <td>could please specify licence photo download se...</td>\n    </tr>\n  </tbody>\n</table>\n</div>"
     },
     "metadata": {},
     "execution_count": 85
    }
   ],
   "source": [
    "data_train.head()"
   ]
  },
  {
   "cell_type": "code",
   "execution_count": 86,
   "metadata": {},
   "outputs": [],
   "source": [
    "def preprocess_text(text, remove_stop = True, stem_words = False, remove_mentions_hashtags = True):\n",
    "    text = text.lower()\n",
    "    text = text.replace(\"what's\", \"what is\")\n",
    "    text = text.replace(\"\\'ve\", \" have\")\n",
    "    text = text.replace(\"can't\", \"can not\")\n",
    "    text = text.replace(\"n't\", \" not\")\n",
    "    text = text.replace(\"i'm\", \"i am\")\n",
    "    text = text.replace(\"'re\", \" are\")\n",
    "    text = text.replace(\"\\'d\", \" would\")\n",
    "    text = text.replace(\"\\'ll\", \" will\")\n",
    "    text = text.replace(\"\\n\", \" \")\n",
    "    for c in string.punctuation:\n",
    "        text = text.replace(c, \"\")\n",
    "\n",
    "    return text"
   ]
  },
  {
   "cell_type": "code",
   "execution_count": 87,
   "metadata": {},
   "outputs": [],
   "source": [
    "data_train['comments_cleaned'] = data_train[\"comment_text\"].apply(preprocess_text)"
   ]
  },
  {
   "cell_type": "code",
   "execution_count": 88,
   "metadata": {},
   "outputs": [
    {
     "output_type": "execute_result",
     "data": {
      "text/plain": [
       "                                             comment_text  toxic  \\\n",
       "22689   \"::No.  The reason some excellent editors leav...      0   \n",
       "154371  Comment Will it merge back into Historicity of...      0   \n",
       "93418   Well then I might do that if I don't get the l...      0   \n",
       "31049   Several years later, I finally add something t...      0   \n",
       "47906   Could you please specify the licence of the ph...      0   \n",
       "...                                                   ...    ...   \n",
       "153719  In the meantime I can't even edit User talk:Ro...      0   \n",
       "148645  \" April 2011 (UTC)\\nI don't dispute that the i...      0   \n",
       "113159  I agree that this article is a WP:NEOLOGISM vi...      0   \n",
       "104771  \" These comments alone constitute evidence tha...      0   \n",
       "14596   None English Title on English Wikipedia \\n\\nCu...      0   \n",
       "\n",
       "                                               text_clean  \\\n",
       "22689   reason excellent editor leave reasoned fully e...   \n",
       "154371  comment merge back historicity jesus tiny part...   \n",
       "93418   well might dont get list done time although st...   \n",
       "31049   several year later finally add something talk ...   \n",
       "47906   could please specify licence photo download se...   \n",
       "...                                                   ...   \n",
       "153719  meantime cant even edit user talkrompecorporat...   \n",
       "148645  april 2011 utc dont dispute image add article ...   \n",
       "113159  agree article wpneologism violation two source...   \n",
       "104771  comment alone constitute evidence mediation ka...   \n",
       "14596   none english title english wikipedia curious l...   \n",
       "\n",
       "                                         comments_cleaned  \n",
       "22689   no  the reason some excellent editors leave is...  \n",
       "154371  comment will it merge back into historicity of...  \n",
       "93418   well then i might do that if i do not get the ...  \n",
       "31049   several years later i finally add something to...  \n",
       "47906   could you please specify the licence of the ph...  \n",
       "...                                                   ...  \n",
       "153719  in the meantime i can not even edit user talkr...  \n",
       "148645   april 2011 utc i do not dispute that the imag...  \n",
       "113159  i agree that this article is a wpneologism vio...  \n",
       "104771   these comments alone constitute evidence that...  \n",
       "14596   none english title on english wikipedia   curi...  \n",
       "\n",
       "[111699 rows x 4 columns]"
      ],
      "text/html": "<div>\n<style scoped>\n    .dataframe tbody tr th:only-of-type {\n        vertical-align: middle;\n    }\n\n    .dataframe tbody tr th {\n        vertical-align: top;\n    }\n\n    .dataframe thead th {\n        text-align: right;\n    }\n</style>\n<table border=\"1\" class=\"dataframe\">\n  <thead>\n    <tr style=\"text-align: right;\">\n      <th></th>\n      <th>comment_text</th>\n      <th>toxic</th>\n      <th>text_clean</th>\n      <th>comments_cleaned</th>\n    </tr>\n  </thead>\n  <tbody>\n    <tr>\n      <th>22689</th>\n      <td>\"::No.  The reason some excellent editors leav...</td>\n      <td>0</td>\n      <td>reason excellent editor leave reasoned fully e...</td>\n      <td>no  the reason some excellent editors leave is...</td>\n    </tr>\n    <tr>\n      <th>154371</th>\n      <td>Comment Will it merge back into Historicity of...</td>\n      <td>0</td>\n      <td>comment merge back historicity jesus tiny part...</td>\n      <td>comment will it merge back into historicity of...</td>\n    </tr>\n    <tr>\n      <th>93418</th>\n      <td>Well then I might do that if I don't get the l...</td>\n      <td>0</td>\n      <td>well might dont get list done time although st...</td>\n      <td>well then i might do that if i do not get the ...</td>\n    </tr>\n    <tr>\n      <th>31049</th>\n      <td>Several years later, I finally add something t...</td>\n      <td>0</td>\n      <td>several year later finally add something talk ...</td>\n      <td>several years later i finally add something to...</td>\n    </tr>\n    <tr>\n      <th>47906</th>\n      <td>Could you please specify the licence of the ph...</td>\n      <td>0</td>\n      <td>could please specify licence photo download se...</td>\n      <td>could you please specify the licence of the ph...</td>\n    </tr>\n    <tr>\n      <th>...</th>\n      <td>...</td>\n      <td>...</td>\n      <td>...</td>\n      <td>...</td>\n    </tr>\n    <tr>\n      <th>153719</th>\n      <td>In the meantime I can't even edit User talk:Ro...</td>\n      <td>0</td>\n      <td>meantime cant even edit user talkrompecorporat...</td>\n      <td>in the meantime i can not even edit user talkr...</td>\n    </tr>\n    <tr>\n      <th>148645</th>\n      <td>\" April 2011 (UTC)\\nI don't dispute that the i...</td>\n      <td>0</td>\n      <td>april 2011 utc dont dispute image add article ...</td>\n      <td>april 2011 utc i do not dispute that the imag...</td>\n    </tr>\n    <tr>\n      <th>113159</th>\n      <td>I agree that this article is a WP:NEOLOGISM vi...</td>\n      <td>0</td>\n      <td>agree article wpneologism violation two source...</td>\n      <td>i agree that this article is a wpneologism vio...</td>\n    </tr>\n    <tr>\n      <th>104771</th>\n      <td>\" These comments alone constitute evidence tha...</td>\n      <td>0</td>\n      <td>comment alone constitute evidence mediation ka...</td>\n      <td>these comments alone constitute evidence that...</td>\n    </tr>\n    <tr>\n      <th>14596</th>\n      <td>None English Title on English Wikipedia \\n\\nCu...</td>\n      <td>0</td>\n      <td>none english title english wikipedia curious l...</td>\n      <td>none english title on english wikipedia   curi...</td>\n    </tr>\n  </tbody>\n</table>\n<p>111699 rows × 4 columns</p>\n</div>"
     },
     "metadata": {},
     "execution_count": 88
    }
   ],
   "source": [
    "data_train"
   ]
  },
  {
   "cell_type": "code",
   "execution_count": 89,
   "metadata": {},
   "outputs": [
    {
     "output_type": "execute_result",
     "data": {
      "text/plain": [
       "Empty DataFrame\n",
       "Columns: [comment_text, toxic, text_clean, comments_cleaned]\n",
       "Index: []"
      ],
      "text/html": "<div>\n<style scoped>\n    .dataframe tbody tr th:only-of-type {\n        vertical-align: middle;\n    }\n\n    .dataframe tbody tr th {\n        vertical-align: top;\n    }\n\n    .dataframe thead th {\n        text-align: right;\n    }\n</style>\n<table border=\"1\" class=\"dataframe\">\n  <thead>\n    <tr style=\"text-align: right;\">\n      <th></th>\n      <th>comment_text</th>\n      <th>toxic</th>\n      <th>text_clean</th>\n      <th>comments_cleaned</th>\n    </tr>\n  </thead>\n  <tbody>\n  </tbody>\n</table>\n</div>"
     },
     "metadata": {},
     "execution_count": 89
    }
   ],
   "source": [
    "data_train[data_train.comments_cleaned == 'some jerkoff blocked me']"
   ]
  },
  {
   "cell_type": "code",
   "execution_count": 90,
   "metadata": {},
   "outputs": [
    {
     "output_type": "error",
     "ename": "AttributeError",
     "evalue": "'DataFrame' object has no attribute 'severe_toxic'",
     "traceback": [
      "\u001b[0;31m---------------------------------------------------------------------------\u001b[0m",
      "\u001b[0;31mAttributeError\u001b[0m                            Traceback (most recent call last)",
      "\u001b[0;32m<ipython-input-90-f68ecf8dc990>\u001b[0m in \u001b[0;36m<module>\u001b[0;34m\u001b[0m\n\u001b[1;32m      2\u001b[0m data_train_transformed = data_train.loc[((data_train.severe_toxic==0) & (data_train.obscene==0) \n\u001b[1;32m      3\u001b[0m                                     \u001b[0;34m&\u001b[0m \u001b[0;34m(\u001b[0m\u001b[0mdata_train\u001b[0m\u001b[0;34m.\u001b[0m\u001b[0mthreat\u001b[0m \u001b[0;34m==\u001b[0m \u001b[0;36m0\u001b[0m\u001b[0;34m)\u001b[0m \u001b[0;34m&\u001b[0m \u001b[0;34m(\u001b[0m\u001b[0mdata_train\u001b[0m\u001b[0;34m.\u001b[0m\u001b[0minsult\u001b[0m \u001b[0;34m==\u001b[0m \u001b[0;36m0\u001b[0m\u001b[0;34m)\u001b[0m\u001b[0;34m\u001b[0m\u001b[0;34m\u001b[0m\u001b[0m\n\u001b[0;32m----> 4\u001b[0;31m                                        & (data_train.identity_hate == 0))]\n\u001b[0m\u001b[1;32m      5\u001b[0m \u001b[0my\u001b[0m \u001b[0;34m=\u001b[0m \u001b[0mdata_train_transformed\u001b[0m\u001b[0;34m[\u001b[0m\u001b[0;34m[\u001b[0m\u001b[0;34m'toxic'\u001b[0m\u001b[0;34m]\u001b[0m\u001b[0;34m]\u001b[0m\u001b[0;34m\u001b[0m\u001b[0;34m\u001b[0m\u001b[0m\n",
      "\u001b[0;32m~/python_programs/ucu/env/lib/python3.7/site-packages/pandas/core/generic.py\u001b[0m in \u001b[0;36m__getattr__\u001b[0;34m(self, name)\u001b[0m\n\u001b[1;32m   5460\u001b[0m             \u001b[0;32mif\u001b[0m \u001b[0mself\u001b[0m\u001b[0;34m.\u001b[0m\u001b[0m_info_axis\u001b[0m\u001b[0;34m.\u001b[0m\u001b[0m_can_hold_identifiers_and_holds_name\u001b[0m\u001b[0;34m(\u001b[0m\u001b[0mname\u001b[0m\u001b[0;34m)\u001b[0m\u001b[0;34m:\u001b[0m\u001b[0;34m\u001b[0m\u001b[0;34m\u001b[0m\u001b[0m\n\u001b[1;32m   5461\u001b[0m                 \u001b[0;32mreturn\u001b[0m \u001b[0mself\u001b[0m\u001b[0;34m[\u001b[0m\u001b[0mname\u001b[0m\u001b[0;34m]\u001b[0m\u001b[0;34m\u001b[0m\u001b[0;34m\u001b[0m\u001b[0m\n\u001b[0;32m-> 5462\u001b[0;31m             \u001b[0;32mreturn\u001b[0m \u001b[0mobject\u001b[0m\u001b[0;34m.\u001b[0m\u001b[0m__getattribute__\u001b[0m\u001b[0;34m(\u001b[0m\u001b[0mself\u001b[0m\u001b[0;34m,\u001b[0m \u001b[0mname\u001b[0m\u001b[0;34m)\u001b[0m\u001b[0;34m\u001b[0m\u001b[0;34m\u001b[0m\u001b[0m\n\u001b[0m\u001b[1;32m   5463\u001b[0m \u001b[0;34m\u001b[0m\u001b[0m\n\u001b[1;32m   5464\u001b[0m     \u001b[0;32mdef\u001b[0m \u001b[0m__setattr__\u001b[0m\u001b[0;34m(\u001b[0m\u001b[0mself\u001b[0m\u001b[0;34m,\u001b[0m \u001b[0mname\u001b[0m\u001b[0;34m:\u001b[0m \u001b[0mstr\u001b[0m\u001b[0;34m,\u001b[0m \u001b[0mvalue\u001b[0m\u001b[0;34m)\u001b[0m \u001b[0;34m->\u001b[0m \u001b[0;32mNone\u001b[0m\u001b[0;34m:\u001b[0m\u001b[0;34m\u001b[0m\u001b[0;34m\u001b[0m\u001b[0m\n",
      "\u001b[0;31mAttributeError\u001b[0m: 'DataFrame' object has no attribute 'severe_toxic'"
     ]
    }
   ],
   "source": [
    "# ignore severe_toxic, obscene, threat, insult, identity_hate\n",
    "data_train_transformed = data_train.loc[((data_train.severe_toxic==0) & (data_train.obscene==0) \n",
    "                                    & (data_train.threat == 0) & (data_train.insult == 0) \n",
    "                                       & (data_train.identity_hate == 0))]\n",
    "y = data_train_transformed[['toxic']]"
   ]
  },
  {
   "cell_type": "code",
   "execution_count": 91,
   "metadata": {},
   "outputs": [
    {
     "output_type": "execute_result",
     "data": {
      "text/plain": [
       "                                             comment_text  toxic  \\\n",
       "125996                          FUCK U ALL \\n\\nFUCK U ALL      1   \n",
       "111470  Mud \\n\\nWhat the fuck are you doing?  I added ...      1   \n",
       "16367   \"\\n\"\"Vandalism\"\"? Sorry, mister, but I haven't...      1   \n",
       "92963   I am coming to get you \\n\\ni know where you li...      1   \n",
       "45928   If that is vandalism then any accusation of be...      1   \n",
       "...                                                   ...    ...   \n",
       "59646   If you have no interest in the whole story the...      1   \n",
       "59711   \"\\n\\n Fuck you \\n\\nRe: \"\"mark williams radio h...      1   \n",
       "17384   ARE IGNORANT PENDEJO IS 185 IS NAME IS CONFIRM...      1   \n",
       "121173  You idiots always demand I explain myself on t...      1   \n",
       "33866   \"\\n\\nWhy the hell are you deleting the informa...      1   \n",
       "\n",
       "                                               text_clean  \\\n",
       "125996                                      fuck u fuck u   \n",
       "111470  mud fuck added adjusted score mud dont undo ch...   \n",
       "16367   vandalism sorry mister havent conducted vandal...   \n",
       "92963             coming get know live im going come rape   \n",
       "45928   vandalism accusation sockpuppet vandalism sock...   \n",
       "...                                                   ...   \n",
       "59646                          interest whole story get f   \n",
       "59711   fuck mark williams radio host ground zero mosq...   \n",
       "17384              ignorant pendejo 185 name confirmed ok   \n",
       "121173  idiot always demand explain talk page always d...   \n",
       "33866   hell deleting information lil wayne page ok sa...   \n",
       "\n",
       "                                         comments_cleaned  \n",
       "125996                            fuck u all   fuck u all  \n",
       "111470  mud   what the fuck are you doing  i added the...  \n",
       "16367    vandalism sorry mister but i have not conduct...  \n",
       "92963   i am coming to get you   i know where you live...  \n",
       "45928   if that is vandalism then any accusation of be...  \n",
       "...                                                   ...  \n",
       "59646   if you have no interest in the whole story the...  \n",
       "59711      fuck you   re mark williams radio host and ...  \n",
       "17384   are ignorant pendejo is 185 is name is confirm...  \n",
       "121173  you idiots always demand i explain myself on t...  \n",
       "33866     why the hell are you deleting the informatio...  \n",
       "\n",
       "[10706 rows x 4 columns]"
      ],
      "text/html": "<div>\n<style scoped>\n    .dataframe tbody tr th:only-of-type {\n        vertical-align: middle;\n    }\n\n    .dataframe tbody tr th {\n        vertical-align: top;\n    }\n\n    .dataframe thead th {\n        text-align: right;\n    }\n</style>\n<table border=\"1\" class=\"dataframe\">\n  <thead>\n    <tr style=\"text-align: right;\">\n      <th></th>\n      <th>comment_text</th>\n      <th>toxic</th>\n      <th>text_clean</th>\n      <th>comments_cleaned</th>\n    </tr>\n  </thead>\n  <tbody>\n    <tr>\n      <th>125996</th>\n      <td>FUCK U ALL \\n\\nFUCK U ALL</td>\n      <td>1</td>\n      <td>fuck u fuck u</td>\n      <td>fuck u all   fuck u all</td>\n    </tr>\n    <tr>\n      <th>111470</th>\n      <td>Mud \\n\\nWhat the fuck are you doing?  I added ...</td>\n      <td>1</td>\n      <td>mud fuck added adjusted score mud dont undo ch...</td>\n      <td>mud   what the fuck are you doing  i added the...</td>\n    </tr>\n    <tr>\n      <th>16367</th>\n      <td>\"\\n\"\"Vandalism\"\"? Sorry, mister, but I haven't...</td>\n      <td>1</td>\n      <td>vandalism sorry mister havent conducted vandal...</td>\n      <td>vandalism sorry mister but i have not conduct...</td>\n    </tr>\n    <tr>\n      <th>92963</th>\n      <td>I am coming to get you \\n\\ni know where you li...</td>\n      <td>1</td>\n      <td>coming get know live im going come rape</td>\n      <td>i am coming to get you   i know where you live...</td>\n    </tr>\n    <tr>\n      <th>45928</th>\n      <td>If that is vandalism then any accusation of be...</td>\n      <td>1</td>\n      <td>vandalism accusation sockpuppet vandalism sock...</td>\n      <td>if that is vandalism then any accusation of be...</td>\n    </tr>\n    <tr>\n      <th>...</th>\n      <td>...</td>\n      <td>...</td>\n      <td>...</td>\n      <td>...</td>\n    </tr>\n    <tr>\n      <th>59646</th>\n      <td>If you have no interest in the whole story the...</td>\n      <td>1</td>\n      <td>interest whole story get f</td>\n      <td>if you have no interest in the whole story the...</td>\n    </tr>\n    <tr>\n      <th>59711</th>\n      <td>\"\\n\\n Fuck you \\n\\nRe: \"\"mark williams radio h...</td>\n      <td>1</td>\n      <td>fuck mark williams radio host ground zero mosq...</td>\n      <td>fuck you   re mark williams radio host and ...</td>\n    </tr>\n    <tr>\n      <th>17384</th>\n      <td>ARE IGNORANT PENDEJO IS 185 IS NAME IS CONFIRM...</td>\n      <td>1</td>\n      <td>ignorant pendejo 185 name confirmed ok</td>\n      <td>are ignorant pendejo is 185 is name is confirm...</td>\n    </tr>\n    <tr>\n      <th>121173</th>\n      <td>You idiots always demand I explain myself on t...</td>\n      <td>1</td>\n      <td>idiot always demand explain talk page always d...</td>\n      <td>you idiots always demand i explain myself on t...</td>\n    </tr>\n    <tr>\n      <th>33866</th>\n      <td>\"\\n\\nWhy the hell are you deleting the informa...</td>\n      <td>1</td>\n      <td>hell deleting information lil wayne page ok sa...</td>\n      <td>why the hell are you deleting the informatio...</td>\n    </tr>\n  </tbody>\n</table>\n<p>10706 rows × 4 columns</p>\n</div>"
     },
     "metadata": {},
     "execution_count": 91
    }
   ],
   "source": [
    "data_train[data_train.toxic == 1]"
   ]
  },
  {
   "cell_type": "code",
   "execution_count": 92,
   "metadata": {},
   "outputs": [],
   "source": [
    "import csv\n",
    "data_train['label'] = ['__label__'+str(s) for s in data_train['toxic']]\n",
    "data = data_train[['comments_cleaned', 'label']]\n",
    "data.to_csv('comments.txt', index=False, sep=' ', header=False,quoting=csv.QUOTE_NONE, quotechar=\"\", escapechar=\" \")"
   ]
  },
  {
   "cell_type": "code",
   "execution_count": 93,
   "metadata": {},
   "outputs": [],
   "source": [
    "data_train[['comments_cleaned', 'label']]\n",
    "data_train = data_train.fillna('')"
   ]
  },
  {
   "cell_type": "code",
   "execution_count": 94,
   "metadata": {},
   "outputs": [],
   "source": [
    "import fasttext\n",
    "\n",
    "model = fasttext.train_supervised(input=\"comments2.txt\")"
   ]
  },
  {
   "cell_type": "code",
   "execution_count": 95,
   "metadata": {},
   "outputs": [],
   "source": [
    "def get_prediction(fast_out):\n",
    "    return int(fast_out[0][0].split('__label__')[1])"
   ]
  },
  {
   "cell_type": "code",
   "execution_count": 98,
   "metadata": {},
   "outputs": [
    {
     "output_type": "stream",
     "name": "stdout",
     "text": [
      "accuracy: 0.9333924207020654 \n\nF1-score: 0.4962762356127285 \n\n"
     ]
    }
   ],
   "source": [
    "from sklearn.metrics import accuracy_score\n",
    "from sklearn.metrics import f1_score\n",
    "\n",
    "##Training accuracy\n",
    "preds = [get_prediction(model.predict(x)) for x in data_train['comments_cleaned']]\n",
    "print('accuracy:', accuracy_score(data_train['toxic'], preds),'\\n')\n",
    "\n",
    "##Training F1-score\n",
    "print('F1-score:', f1_score(data_train['toxic'], preds),'\\n')"
   ]
  },
  {
   "cell_type": "code",
   "execution_count": 99,
   "metadata": {},
   "outputs": [
    {
     "output_type": "stream",
     "name": "stdout",
     "text": [
      "              precision    recall  f1-score   support\n\n           0       0.93      1.00      0.96    100993\n           1       0.90      0.34      0.50     10706\n\n    accuracy                           0.93    111699\n   macro avg       0.92      0.67      0.73    111699\nweighted avg       0.93      0.93      0.92    111699\n\n"
     ]
    }
   ],
   "source": [
    "from sklearn.metrics import classification_report\n",
    "\n",
    "print(classification_report(data_train['toxic'], preds))"
   ]
  },
  {
   "cell_type": "code",
   "execution_count": null,
   "metadata": {},
   "outputs": [],
   "source": []
  },
  {
   "cell_type": "code",
   "execution_count": null,
   "metadata": {},
   "outputs": [],
   "source": []
  },
  {
   "cell_type": "code",
   "execution_count": 23,
   "metadata": {},
   "outputs": [],
   "source": [
    "model.save_model(\"model_toxic.bin\")"
   ]
  },
  {
   "cell_type": "code",
   "execution_count": 28,
   "metadata": {},
   "outputs": [
    {
     "output_type": "execute_result",
     "data": {
      "text/plain": [
       "(('__label__1',), array([1.00001001]))"
      ]
     },
     "metadata": {},
     "execution_count": 28
    }
   ],
   "source": [
    "model.predict(\"some jerkoff blocked me\")"
   ]
  },
  {
   "cell_type": "code",
   "execution_count": 12,
   "metadata": {},
   "outputs": [],
   "source": [
    "# ignore severe_toxic, obscene, threat, insult, identity_hate\n",
    "toxic_non_toxic_data = data_train_transformed.loc[((data_train_transformed.severe_toxic==0) & (data_train_transformed.obscene==0) \n",
    "                                    & (data_train_transformed.threat == 0) & (data_train_transformed.insult == 0) \n",
    "                                       & (data_train_transformed.identity_hate == 0))]\n",
    "y = toxic_non_toxic_data[['toxic']]"
   ]
  },
  {
   "cell_type": "code",
   "execution_count": 38,
   "metadata": {},
   "outputs": [],
   "source": [
    "data_df = pd.read_pickle(\"Data/train_data.pkl\")"
   ]
  },
  {
   "cell_type": "code",
   "execution_count": 39,
   "metadata": {},
   "outputs": [],
   "source": [
    "toxic_data['comments_cleaned'] = data_df[\"comment_text\"].apply(preprocess_text)"
   ]
  },
  {
   "cell_type": "code",
   "execution_count": 40,
   "metadata": {},
   "outputs": [
    {
     "output_type": "execute_result",
     "data": {
      "text/plain": [
       "                      id                                       comment_text  \\\n",
       "6       0002bcb3da6cb337       COCKSUCKER BEFORE YOU PISS AROUND ON MY WORK   \n",
       "12      0005c987bdfc9d4b  Hey... what is it..\\n@ | talk .\\nWhat is it......   \n",
       "16      0007e25b2121310b  Bye! \\n\\nDon't look, come or think of comming ...   \n",
       "42      001810bf8c45bf5f  You are gay or antisemmitian? \\n\\nArchangel WH...   \n",
       "43      00190820581d90ce           FUCK YOUR FILTHY MOTHER IN THE ASS, DRY!   \n",
       "...                  ...                                                ...   \n",
       "159494  fef4cf7ba0012866  \"\\n\\n our previous conversation \\n\\nyou fuckin...   \n",
       "159514  ff39a2895fc3b40e                  YOU ARE A MISCHIEVIOUS PUBIC HAIR   \n",
       "159541  ffa33d3122b599d6  Your absurd edits \\n\\nYour absurd edits on gre...   \n",
       "159546  ffb47123b2d82762  \"\\n\\nHey listen don't you ever!!!! Delete my e...   \n",
       "159554  ffbdbb0483ed0841  and i'm going to keep posting the stuff u dele...   \n",
       "\n",
       "        toxic  severe_toxic  obscene  threat  insult  identity_hate  \\\n",
       "6           1             1        1       0       1              0   \n",
       "12          1             0        0       0       0              0   \n",
       "16          1             0        0       0       0              0   \n",
       "42          1             0        1       0       1              1   \n",
       "43          1             0        1       0       1              0   \n",
       "...       ...           ...      ...     ...     ...            ...   \n",
       "159494      1             0        1       0       1              1   \n",
       "159514      1             0        0       0       1              0   \n",
       "159541      1             0        1       0       1              0   \n",
       "159546      1             0        0       0       1              0   \n",
       "159554      1             0        1       0       1              0   \n",
       "\n",
       "                                         comments_cleaned  \n",
       "6            cocksucker before you piss around on my work  \n",
       "12      hey what is it   talk  what is it an exclusive...  \n",
       "16      bye   do not look come or think of comming bac...  \n",
       "42      you are gay or antisemmitian   archangel white...  \n",
       "43                                                    NaN  \n",
       "...                                                   ...  \n",
       "159494                                                NaN  \n",
       "159514                  you are a mischievious pubic hair  \n",
       "159541  your absurd edits   your absurd edits on great...  \n",
       "159546                                                NaN  \n",
       "159554                                                NaN  \n",
       "\n",
       "[15294 rows x 9 columns]"
      ],
      "text/html": "<div>\n<style scoped>\n    .dataframe tbody tr th:only-of-type {\n        vertical-align: middle;\n    }\n\n    .dataframe tbody tr th {\n        vertical-align: top;\n    }\n\n    .dataframe thead th {\n        text-align: right;\n    }\n</style>\n<table border=\"1\" class=\"dataframe\">\n  <thead>\n    <tr style=\"text-align: right;\">\n      <th></th>\n      <th>id</th>\n      <th>comment_text</th>\n      <th>toxic</th>\n      <th>severe_toxic</th>\n      <th>obscene</th>\n      <th>threat</th>\n      <th>insult</th>\n      <th>identity_hate</th>\n      <th>comments_cleaned</th>\n    </tr>\n  </thead>\n  <tbody>\n    <tr>\n      <th>6</th>\n      <td>0002bcb3da6cb337</td>\n      <td>COCKSUCKER BEFORE YOU PISS AROUND ON MY WORK</td>\n      <td>1</td>\n      <td>1</td>\n      <td>1</td>\n      <td>0</td>\n      <td>1</td>\n      <td>0</td>\n      <td>cocksucker before you piss around on my work</td>\n    </tr>\n    <tr>\n      <th>12</th>\n      <td>0005c987bdfc9d4b</td>\n      <td>Hey... what is it..\\n@ | talk .\\nWhat is it......</td>\n      <td>1</td>\n      <td>0</td>\n      <td>0</td>\n      <td>0</td>\n      <td>0</td>\n      <td>0</td>\n      <td>hey what is it   talk  what is it an exclusive...</td>\n    </tr>\n    <tr>\n      <th>16</th>\n      <td>0007e25b2121310b</td>\n      <td>Bye! \\n\\nDon't look, come or think of comming ...</td>\n      <td>1</td>\n      <td>0</td>\n      <td>0</td>\n      <td>0</td>\n      <td>0</td>\n      <td>0</td>\n      <td>bye   do not look come or think of comming bac...</td>\n    </tr>\n    <tr>\n      <th>42</th>\n      <td>001810bf8c45bf5f</td>\n      <td>You are gay or antisemmitian? \\n\\nArchangel WH...</td>\n      <td>1</td>\n      <td>0</td>\n      <td>1</td>\n      <td>0</td>\n      <td>1</td>\n      <td>1</td>\n      <td>you are gay or antisemmitian   archangel white...</td>\n    </tr>\n    <tr>\n      <th>43</th>\n      <td>00190820581d90ce</td>\n      <td>FUCK YOUR FILTHY MOTHER IN THE ASS, DRY!</td>\n      <td>1</td>\n      <td>0</td>\n      <td>1</td>\n      <td>0</td>\n      <td>1</td>\n      <td>0</td>\n      <td>NaN</td>\n    </tr>\n    <tr>\n      <th>...</th>\n      <td>...</td>\n      <td>...</td>\n      <td>...</td>\n      <td>...</td>\n      <td>...</td>\n      <td>...</td>\n      <td>...</td>\n      <td>...</td>\n      <td>...</td>\n    </tr>\n    <tr>\n      <th>159494</th>\n      <td>fef4cf7ba0012866</td>\n      <td>\"\\n\\n our previous conversation \\n\\nyou fuckin...</td>\n      <td>1</td>\n      <td>0</td>\n      <td>1</td>\n      <td>0</td>\n      <td>1</td>\n      <td>1</td>\n      <td>NaN</td>\n    </tr>\n    <tr>\n      <th>159514</th>\n      <td>ff39a2895fc3b40e</td>\n      <td>YOU ARE A MISCHIEVIOUS PUBIC HAIR</td>\n      <td>1</td>\n      <td>0</td>\n      <td>0</td>\n      <td>0</td>\n      <td>1</td>\n      <td>0</td>\n      <td>you are a mischievious pubic hair</td>\n    </tr>\n    <tr>\n      <th>159541</th>\n      <td>ffa33d3122b599d6</td>\n      <td>Your absurd edits \\n\\nYour absurd edits on gre...</td>\n      <td>1</td>\n      <td>0</td>\n      <td>1</td>\n      <td>0</td>\n      <td>1</td>\n      <td>0</td>\n      <td>your absurd edits   your absurd edits on great...</td>\n    </tr>\n    <tr>\n      <th>159546</th>\n      <td>ffb47123b2d82762</td>\n      <td>\"\\n\\nHey listen don't you ever!!!! Delete my e...</td>\n      <td>1</td>\n      <td>0</td>\n      <td>0</td>\n      <td>0</td>\n      <td>1</td>\n      <td>0</td>\n      <td>NaN</td>\n    </tr>\n    <tr>\n      <th>159554</th>\n      <td>ffbdbb0483ed0841</td>\n      <td>and i'm going to keep posting the stuff u dele...</td>\n      <td>1</td>\n      <td>0</td>\n      <td>1</td>\n      <td>0</td>\n      <td>1</td>\n      <td>0</td>\n      <td>NaN</td>\n    </tr>\n  </tbody>\n</table>\n<p>15294 rows × 9 columns</p>\n</div>"
     },
     "metadata": {},
     "execution_count": 40
    }
   ],
   "source": [
    "toxic_data[toxic_data.toxic == 1]"
   ]
  },
  {
   "cell_type": "code",
   "execution_count": 41,
   "metadata": {},
   "outputs": [],
   "source": [
    "toxic_comments = toxic_data.loc[toxic_data.toxic == 1]\n",
    "\n",
    "non_toxic_comments = toxic_data.loc[((toxic_data.toxic == 0) & (toxic_data.severe_toxic==0) & (toxic_data.obscene==0) \n",
    "                                    & (toxic_data.threat == 0) & (toxic_data.insult == 0) & (toxic_data.identity_hate == 0))]"
   ]
  },
  {
   "cell_type": "code",
   "execution_count": 42,
   "metadata": {},
   "outputs": [],
   "source": [
    "# ignore severe_toxic, obscene, threat, insult, identity_hate\n",
    "toxic_non_toxic_data = toxic_data.loc[((toxic_data.severe_toxic==0) & (toxic_data.obscene==0) \n",
    "                                    & (toxic_data.threat == 0) & (toxic_data.insult == 0) \n",
    "                                       & (toxic_data.identity_hate == 0))]\n",
    "y = toxic_non_toxic_data['toxic']"
   ]
  },
  {
   "cell_type": "code",
   "execution_count": 43,
   "metadata": {},
   "outputs": [
    {
     "output_type": "execute_result",
     "data": {
      "text/plain": [
       "0         0\n",
       "1         0\n",
       "2         0\n",
       "3         0\n",
       "4         0\n",
       "         ..\n",
       "159566    0\n",
       "159567    0\n",
       "159568    0\n",
       "159569    0\n",
       "159570    0\n",
       "Name: toxic, Length: 149012, dtype: int64"
      ]
     },
     "metadata": {},
     "execution_count": 43
    }
   ],
   "source": [
    "toxic_non_toxic_data['toxic']"
   ]
  },
  {
   "cell_type": "code",
   "execution_count": 44,
   "metadata": {},
   "outputs": [],
   "source": [
    "import csv\n",
    "toxic_non_toxic_data['label'] = ['__label__'+str(s) for s in toxic_non_toxic_data['toxic']]\n",
    "data = toxic_non_toxic_data[['comments_cleaned', 'label']]\n",
    "data.to_csv('comments2.txt', index=False, sep=' ', header=False,quoting=csv.QUOTE_NONE, quotechar=\"\", escapechar=\" \")"
   ]
  },
  {
   "cell_type": "code",
   "execution_count": 67,
   "metadata": {},
   "outputs": [],
   "source": [
    "toxic_non_toxic_data[['comments_cleaned', 'label']]\n",
    "toxic_non_toxic_data = toxic_non_toxic_data.fillna('')"
   ]
  },
  {
   "cell_type": "code",
   "execution_count": 68,
   "metadata": {},
   "outputs": [],
   "source": [
    "import fasttext\n",
    "\n",
    "model = fasttext.train_supervised(input=\"comments2.txt\")"
   ]
  },
  {
   "cell_type": "code",
   "execution_count": 48,
   "metadata": {},
   "outputs": [],
   "source": [
    "def get_prediction(fast_out):\n",
    "    return int(fast_out[0][0].split('__label__')[1])"
   ]
  },
  {
   "cell_type": "code",
   "execution_count": 69,
   "metadata": {},
   "outputs": [
    {
     "output_type": "execute_result",
     "data": {
      "text/plain": [
       "0"
      ]
     },
     "metadata": {},
     "execution_count": 69
    }
   ],
   "source": [
    "get_prediction(model.predict('explanation why the edits made under my username hardcore metallica fan were reverted they were not vandalisms just closure on some gas after i voted at new york dolls fac and please do not remove the template from the talk page since i am retired now892053827'))\n",
    "#model.predict('cocksucker before you piss around on my work')"
   ]
  },
  {
   "cell_type": "code",
   "execution_count": 70,
   "metadata": {},
   "outputs": [
    {
     "output_type": "stream",
     "name": "stdout",
     "text": [
      "accuracy: 0.9642981773280004 \n\nF1-score: 0.2109166419460101 \n\n"
     ]
    }
   ],
   "source": [
    "from sklearn.metrics import accuracy_score\n",
    "from sklearn.metrics import f1_score\n",
    "\n",
    "##Training accuracy\n",
    "preds = [get_prediction(model.predict(x)) for x in toxic_non_toxic_data['comments_cleaned']]\n",
    "print('accuracy:', accuracy_score(toxic_non_toxic_data['toxic'], preds),'\\n')\n",
    "\n",
    "##Training F1-score\n",
    "print('F1-score:', f1_score(toxic_non_toxic_data['toxic'], preds),'\\n')"
   ]
  },
  {
   "cell_type": "code",
   "execution_count": 52,
   "metadata": {},
   "outputs": [
    {
     "output_type": "execute_result",
     "data": {
      "text/plain": [
       "0         explanation why the edits made under my userna...\n",
       "1         daww he matches this background colour i am se...\n",
       "2         hey man i am really not trying to edit war its...\n",
       "3          more i can not make any real suggestions on i...\n",
       "4         you sir are my hero any chance you remember wh...\n",
       "                                ...                        \n",
       "159566    and for the second time of asking when your vi...\n",
       "159567    you should be ashamed of yourself   that is a ...\n",
       "159568    spitzer   umm theres no actual article for pro...\n",
       "159569    and it looks like it was actually you who put ...\n",
       "159570     and  i really do not think you understand  i ...\n",
       "Name: comments_cleaned, Length: 149012, dtype: object"
      ]
     },
     "metadata": {},
     "execution_count": 52
    }
   ],
   "source": []
  },
  {
   "cell_type": "code",
   "execution_count": 72,
   "metadata": {},
   "outputs": [
    {
     "output_type": "execute_result",
     "data": {
      "text/plain": [
       "0         0\n",
       "1         0\n",
       "2         0\n",
       "3         0\n",
       "4         0\n",
       "         ..\n",
       "159566    0\n",
       "159567    0\n",
       "159568    0\n",
       "159569    0\n",
       "159570    0\n",
       "Name: toxic, Length: 149012, dtype: int64"
      ]
     },
     "metadata": {},
     "execution_count": 72
    }
   ],
   "source": []
  },
  {
   "cell_type": "code",
   "execution_count": 73,
   "metadata": {},
   "outputs": [
    {
     "output_type": "stream",
     "name": "stdout",
     "text": [
      "              precision    recall  f1-score   support\n\n           0       0.97      1.00      0.98    143346\n           1       0.66      0.13      0.21      5666\n\n    accuracy                           0.96    149012\n   macro avg       0.81      0.56      0.60    149012\nweighted avg       0.95      0.96      0.95    149012\n\n"
     ]
    }
   ],
   "source": [
    "from sklearn.metrics import classification_report\n",
    "\n",
    "print(classification_report(toxic_non_toxic_data['toxic'], preds))"
   ]
  },
  {
   "cell_type": "code",
   "execution_count": null,
   "metadata": {},
   "outputs": [],
   "source": []
  }
 ]
}